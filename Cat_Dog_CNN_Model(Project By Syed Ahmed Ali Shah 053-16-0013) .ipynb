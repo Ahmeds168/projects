{
 "cells": [
  {
   "cell_type": "markdown",
   "metadata": {},
   "source": [
    "-Syed Ahmed Ali Shah- \n",
    "-CMS: 053-16-0013\n",
    "-Semester Project of Data Mining And Data Warehousing\n",
    "-Accuracy= 78% Loss= 48%."
   ]
  },
  {
   "cell_type": "markdown",
   "metadata": {},
   "source": [
    "Note: I have run 50 epochs(100 steps per epoch) so it is giving 78% accuracy. But I found that accuracy can be increased if more epochs are run, say 100 or 200 or may be 500."
   ]
  },
  {
   "cell_type": "code",
   "execution_count": 1,
   "metadata": {},
   "outputs": [
    {
     "name": "stderr",
     "output_type": "stream",
     "text": [
      "Using TensorFlow backend.\n"
     ]
    }
   ],
   "source": [
    "from keras.models import Sequential"
   ]
  },
  {
   "cell_type": "code",
   "execution_count": 2,
   "metadata": {},
   "outputs": [],
   "source": [
    "from keras.layers import Convolution2D"
   ]
  },
  {
   "cell_type": "code",
   "execution_count": 3,
   "metadata": {},
   "outputs": [],
   "source": [
    "from keras.layers import MaxPooling2D"
   ]
  },
  {
   "cell_type": "code",
   "execution_count": 4,
   "metadata": {},
   "outputs": [],
   "source": [
    "from keras.layers import Flatten"
   ]
  },
  {
   "cell_type": "code",
   "execution_count": 5,
   "metadata": {},
   "outputs": [],
   "source": [
    "from keras.layers import Dense"
   ]
  },
  {
   "cell_type": "markdown",
   "metadata": {},
   "source": [
    "Data Preprocessing: Resizing Images into 96X96 Dimension"
   ]
  },
  {
   "cell_type": "code",
   "execution_count": null,
   "metadata": {},
   "outputs": [],
   "source": [
    "from PIL import Image\n",
    "import cv2\n",
    "\n",
    "path1 = 'C:\\Users\\Administrator\\PetImages\\Cat\\';\n",
    "path2 = 'C:\\Users\\Administrator\\PetImages\\Dog\\';\n",
    "\n",
    "#resize cat images\n",
    "for i in range(1,5999):\n",
    "    if i==666  :   #no image exists named 666\n",
    "        continue\n",
    "    image = Image.open(path1+str(i)+'.jpg')\n",
    "    image=image.resize((96,96))\n",
    "    image.save(path1+str(i)+'(96x96).jpg')\n",
    "    print('image'+str(i)+' resized')\n",
    "    \n",
    "#resize dog images\n",
    "for i in range(1,5999):\n",
    "    if i==666  :   #no image exists named 666\n",
    "        continue\n",
    "    image = Image.open(path2+str(i)+'.jpg')\n",
    "    image=image.resize((96,96))\n",
    "    image.save(path2+str(i)+'(96x96).jpg')\n",
    "    print('image'+str(i)+' resized')"
   ]
  },
  {
   "cell_type": "markdown",
   "metadata": {},
   "source": [
    "I have used sigmoid function in last layer of cnn because I want the result to be between 0 and 1 (cat or dog)."
   ]
  },
  {
   "cell_type": "code",
   "execution_count": 6,
   "metadata": {},
   "outputs": [],
   "source": [
    "classifier = Sequential([\n",
    "    Convolution2D(filters=32, kernel_size=3, activation='relu' , input_shape= (64,64,3)),\n",
    "    MaxPooling2D(pool_size=2),\n",
    "    Flatten(),\n",
    "    Dense(32 , activation='relu'),\n",
    "    Dense(1, activation='sigmoid') # sigmoid because the last output should be between 0 and 1\n",
    "])"
   ]
  },
  {
   "cell_type": "code",
   "execution_count": 7,
   "metadata": {},
   "outputs": [],
   "source": [
    "classifier.compile(\n",
    "loss = 'binary_crossentropy',\n",
    "optimizer = 'adam',    \n",
    "metrics=['accuracy']\n",
    ")"
   ]
  },
  {
   "cell_type": "code",
   "execution_count": 8,
   "metadata": {},
   "outputs": [],
   "source": [
    "import pandas as pd\n",
    "import numpy as np\n",
    "from sklearn.model_selection import train_test_split"
   ]
  },
  {
   "cell_type": "code",
   "execution_count": 9,
   "metadata": {},
   "outputs": [],
   "source": [
    "from keras.preprocessing.image import ImageDataGenerator\n"
   ]
  },
  {
   "cell_type": "markdown",
   "metadata": {},
   "source": [
    "I have used image_data_generator so as to load all the 12000 images from PetImages Folder."
   ]
  },
  {
   "cell_type": "code",
   "execution_count": 10,
   "metadata": {},
   "outputs": [
    {
     "name": "stdout",
     "output_type": "stream",
     "text": [
      "Found 12001 images belonging to 2 classes.\n"
     ]
    }
   ],
   "source": [
    "train_datagen = ImageDataGenerator(rescale=1./255)\n",
    "\n",
    "test_datagen = ImageDataGenerator(rescale=1./255)\n",
    "\n",
    "train_set = train_datagen.flow_from_directory(\n",
    "        r'C:\\Users\\Administrator\\PetImages',\n",
    "        target_size=(64, 64),\n",
    "        batch_size=8,\n",
    "        class_mode='binary')\n"
   ]
  },
  {
   "cell_type": "code",
   "execution_count": 11,
   "metadata": {},
   "outputs": [
    {
     "name": "stdout",
     "output_type": "stream",
     "text": [
      "Found 12001 images belonging to 2 classes.\n"
     ]
    }
   ],
   "source": [
    "test_set = test_datagen.flow_from_directory(\n",
    "        r'C:\\Users\\Administrator\\PetImages',\n",
    "        target_size=(64, 64),\n",
    "        batch_size=8,\n",
    "        class_mode='binary'\n",
    "\n",
    ")"
   ]
  },
  {
   "cell_type": "code",
   "execution_count": 12,
   "metadata": {},
   "outputs": [],
   "source": [
    "from IPython.display import display\n",
    "from PIL import Image"
   ]
  },
  {
   "cell_type": "code",
   "execution_count": 13,
   "metadata": {},
   "outputs": [
    {
     "name": "stdout",
     "output_type": "stream",
     "text": [
      "Epoch 1/50\n",
      "  9/100 [=>............................] - ETA: 49s - loss: 1.0221 - acc: 0.5417"
     ]
    },
    {
     "name": "stderr",
     "output_type": "stream",
     "text": [
      "C:\\ProgramData\\Anaconda3\\lib\\site-packages\\PIL\\TiffImagePlugin.py:763: UserWarning: Possibly corrupt EXIF data.  Expecting to read 80000 bytes but only got 0. Skipping tag 64640\n",
      "  \" Skipping tag %s\" % (size, len(data), tag))\n",
      "C:\\ProgramData\\Anaconda3\\lib\\site-packages\\PIL\\TiffImagePlugin.py:763: UserWarning: Possibly corrupt EXIF data.  Expecting to read 65536 bytes but only got 0. Skipping tag 3\n",
      "  \" Skipping tag %s\" % (size, len(data), tag))\n",
      "C:\\ProgramData\\Anaconda3\\lib\\site-packages\\PIL\\TiffImagePlugin.py:763: UserWarning: Possibly corrupt EXIF data.  Expecting to read 307363840 bytes but only got 0. Skipping tag 5\n",
      "  \" Skipping tag %s\" % (size, len(data), tag))\n",
      "C:\\ProgramData\\Anaconda3\\lib\\site-packages\\PIL\\TiffImagePlugin.py:763: UserWarning: Possibly corrupt EXIF data.  Expecting to read 307888128 bytes but only got 0. Skipping tag 5\n",
      "  \" Skipping tag %s\" % (size, len(data), tag))\n",
      "C:\\ProgramData\\Anaconda3\\lib\\site-packages\\PIL\\TiffImagePlugin.py:763: UserWarning: Possibly corrupt EXIF data.  Expecting to read 131072 bytes but only got 0. Skipping tag 3\n",
      "  \" Skipping tag %s\" % (size, len(data), tag))\n",
      "C:\\ProgramData\\Anaconda3\\lib\\site-packages\\PIL\\TiffImagePlugin.py:763: UserWarning: Possibly corrupt EXIF data.  Expecting to read 328728576 bytes but only got 0. Skipping tag 4\n",
      "  \" Skipping tag %s\" % (size, len(data), tag))\n",
      "C:\\ProgramData\\Anaconda3\\lib\\site-packages\\PIL\\TiffImagePlugin.py:763: UserWarning: Possibly corrupt EXIF data.  Expecting to read 1385474 bytes but only got 5357. Skipping tag 513\n",
      "  \" Skipping tag %s\" % (size, len(data), tag))\n",
      "C:\\ProgramData\\Anaconda3\\lib\\site-packages\\PIL\\TiffImagePlugin.py:763: UserWarning: Possibly corrupt EXIF data.  Expecting to read 3846701056 bytes but only got 0. Skipping tag 2\n",
      "  \" Skipping tag %s\" % (size, len(data), tag))\n",
      "C:\\ProgramData\\Anaconda3\\lib\\site-packages\\PIL\\TiffImagePlugin.py:763: UserWarning: Possibly corrupt EXIF data.  Expecting to read 3300917248 bytes but only got 0. Skipping tag 7\n",
      "  \" Skipping tag %s\" % (size, len(data), tag))\n",
      "C:\\ProgramData\\Anaconda3\\lib\\site-packages\\PIL\\TiffImagePlugin.py:763: UserWarning: Possibly corrupt EXIF data.  Expecting to read 196867 bytes but only got 5357. Skipping tag 0\n",
      "  \" Skipping tag %s\" % (size, len(data), tag))\n",
      "C:\\ProgramData\\Anaconda3\\lib\\site-packages\\PIL\\TiffImagePlugin.py:780: UserWarning: Corrupt EXIF data.  Expecting to read 12 bytes but only got 8. \n",
      "  warnings.warn(str(msg))\n"
     ]
    },
    {
     "name": "stdout",
     "output_type": "stream",
     "text": [
      " 31/100 [========>.....................] - ETA: 26s - loss: 0.7903 - acc: 0.4879"
     ]
    },
    {
     "name": "stderr",
     "output_type": "stream",
     "text": [
      "C:\\ProgramData\\Anaconda3\\lib\\site-packages\\PIL\\TiffImagePlugin.py:763: UserWarning: Possibly corrupt EXIF data.  Expecting to read 404094976 bytes but only got 0. Skipping tag 5\n",
      "  \" Skipping tag %s\" % (size, len(data), tag))\n",
      "C:\\ProgramData\\Anaconda3\\lib\\site-packages\\PIL\\TiffImagePlugin.py:763: UserWarning: Possibly corrupt EXIF data.  Expecting to read 404619264 bytes but only got 0. Skipping tag 5\n",
      "  \" Skipping tag %s\" % (size, len(data), tag))\n",
      "C:\\ProgramData\\Anaconda3\\lib\\site-packages\\PIL\\TiffImagePlugin.py:763: UserWarning: Possibly corrupt EXIF data.  Expecting to read 425459712 bytes but only got 0. Skipping tag 4\n",
      "  \" Skipping tag %s\" % (size, len(data), tag))\n",
      "C:\\ProgramData\\Anaconda3\\lib\\site-packages\\PIL\\TiffImagePlugin.py:763: UserWarning: Possibly corrupt EXIF data.  Expecting to read 1385474 bytes but only got 6833. Skipping tag 513\n",
      "  \" Skipping tag %s\" % (size, len(data), tag))\n",
      "C:\\ProgramData\\Anaconda3\\lib\\site-packages\\PIL\\TiffImagePlugin.py:763: UserWarning: Possibly corrupt EXIF data.  Expecting to read 196867 bytes but only got 6833. Skipping tag 0\n",
      "  \" Skipping tag %s\" % (size, len(data), tag))\n"
     ]
    },
    {
     "name": "stdout",
     "output_type": "stream",
     "text": [
      " 99/100 [============================>.] - ETA: 0s - loss: 0.7194 - acc: 0.5303"
     ]
    },
    {
     "name": "stderr",
     "output_type": "stream",
     "text": [
      "C:\\ProgramData\\Anaconda3\\lib\\site-packages\\PIL\\TiffImagePlugin.py:763: UserWarning: Possibly corrupt EXIF data.  Expecting to read 6553600 bytes but only got 0. Skipping tag 49\n",
      "  \" Skipping tag %s\" % (size, len(data), tag))\n",
      "C:\\ProgramData\\Anaconda3\\lib\\site-packages\\PIL\\TiffImagePlugin.py:763: UserWarning: Possibly corrupt EXIF data.  Expecting to read 1050744 bytes but only got 4951. Skipping tag 51\n",
      "  \" Skipping tag %s\" % (size, len(data), tag))\n",
      "C:\\ProgramData\\Anaconda3\\lib\\site-packages\\PIL\\TiffImagePlugin.py:763: UserWarning: Possibly corrupt EXIF data.  Expecting to read 293339136 bytes but only got 0. Skipping tag 5\n",
      "  \" Skipping tag %s\" % (size, len(data), tag))\n",
      "C:\\ProgramData\\Anaconda3\\lib\\site-packages\\PIL\\TiffImagePlugin.py:763: UserWarning: Possibly corrupt EXIF data.  Expecting to read 293863424 bytes but only got 0. Skipping tag 5\n",
      "  \" Skipping tag %s\" % (size, len(data), tag))\n",
      "C:\\ProgramData\\Anaconda3\\lib\\site-packages\\PIL\\TiffImagePlugin.py:763: UserWarning: Possibly corrupt EXIF data.  Expecting to read 3368026112 bytes but only got 0. Skipping tag 7\n",
      "  \" Skipping tag %s\" % (size, len(data), tag))\n",
      "C:\\ProgramData\\Anaconda3\\lib\\site-packages\\PIL\\TiffImagePlugin.py:763: UserWarning: Possibly corrupt EXIF data.  Expecting to read 134479872 bytes but only got 0. Skipping tag 7\n",
      "  \" Skipping tag %s\" % (size, len(data), tag))\n",
      "C:\\ProgramData\\Anaconda3\\lib\\site-packages\\PIL\\TiffImagePlugin.py:763: UserWarning: Possibly corrupt EXIF data.  Expecting to read 295698432 bytes but only got 0. Skipping tag 10\n",
      "  \" Skipping tag %s\" % (size, len(data), tag))\n",
      "C:\\ProgramData\\Anaconda3\\lib\\site-packages\\PIL\\TiffImagePlugin.py:763: UserWarning: Possibly corrupt EXIF data.  Expecting to read 296222720 bytes but only got 0. Skipping tag 5\n",
      "  \" Skipping tag %s\" % (size, len(data), tag))\n",
      "C:\\ProgramData\\Anaconda3\\lib\\site-packages\\PIL\\TiffImagePlugin.py:763: UserWarning: Possibly corrupt EXIF data.  Expecting to read 14745600 bytes but only got 0. Skipping tag 4\n",
      "  \" Skipping tag %s\" % (size, len(data), tag))\n",
      "C:\\ProgramData\\Anaconda3\\lib\\site-packages\\PIL\\TiffImagePlugin.py:763: UserWarning: Possibly corrupt EXIF data.  Expecting to read 25624576 bytes but only got 0. Skipping tag 4\n",
      "  \" Skipping tag %s\" % (size, len(data), tag))\n",
      "C:\\ProgramData\\Anaconda3\\lib\\site-packages\\PIL\\TiffImagePlugin.py:763: UserWarning: Possibly corrupt EXIF data.  Expecting to read 317718528 bytes but only got 4956. Skipping tag 4\n",
      "  \" Skipping tag %s\" % (size, len(data), tag))\n",
      "C:\\ProgramData\\Anaconda3\\lib\\site-packages\\PIL\\TiffImagePlugin.py:763: UserWarning: Possibly corrupt EXIF data.  Expecting to read 131073 bytes but only got 4952. Skipping tag 0\n",
      "  \" Skipping tag %s\" % (size, len(data), tag))\n",
      "C:\\ProgramData\\Anaconda3\\lib\\site-packages\\PIL\\TiffImagePlugin.py:763: UserWarning: Possibly corrupt EXIF data.  Expecting to read 393216 bytes but only got 0. Skipping tag 3\n",
      "  \" Skipping tag %s\" % (size, len(data), tag))\n",
      "C:\\ProgramData\\Anaconda3\\lib\\site-packages\\PIL\\TiffImagePlugin.py:763: UserWarning: Possibly corrupt EXIF data.  Expecting to read 287178752 bytes but only got 0. Skipping tag 5\n",
      "  \" Skipping tag %s\" % (size, len(data), tag))\n",
      "C:\\ProgramData\\Anaconda3\\lib\\site-packages\\PIL\\TiffImagePlugin.py:763: UserWarning: Possibly corrupt EXIF data.  Expecting to read 287703040 bytes but only got 0. Skipping tag 5\n",
      "  \" Skipping tag %s\" % (size, len(data), tag))\n",
      "C:\\ProgramData\\Anaconda3\\lib\\site-packages\\PIL\\TiffImagePlugin.py:763: UserWarning: Possibly corrupt EXIF data.  Expecting to read 524288 bytes but only got 0. Skipping tag 4\n",
      "  \" Skipping tag %s\" % (size, len(data), tag))\n",
      "C:\\ProgramData\\Anaconda3\\lib\\site-packages\\PIL\\TiffImagePlugin.py:763: UserWarning: Possibly corrupt EXIF data.  Expecting to read 286654464 bytes but only got 4956. Skipping tag 4\n",
      "  \" Skipping tag %s\" % (size, len(data), tag))\n",
      "C:\\ProgramData\\Anaconda3\\lib\\site-packages\\PIL\\TiffImagePlugin.py:780: UserWarning: Corrupt EXIF data.  Expecting to read 12 bytes but only got 2. \n",
      "  warnings.warn(str(msg))\n"
     ]
    },
    {
     "name": "stdout",
     "output_type": "stream",
     "text": [
      "100/100 [==============================] - 213s 2s/step - loss: 0.7196 - acc: 0.5275 - val_loss: 0.6971 - val_acc: 0.4897\n",
      "Epoch 2/50\n",
      " 99/100 [============================>.] - ETA: 0s - loss: 0.6858 - acc: 0.5328"
     ]
    },
    {
     "name": "stderr",
     "output_type": "stream",
     "text": [
      "C:\\ProgramData\\Anaconda3\\lib\\site-packages\\PIL\\TiffImagePlugin.py:763: UserWarning: Possibly corrupt EXIF data.  Expecting to read 18350080 bytes but only got 0. Skipping tag 0\n",
      "  \" Skipping tag %s\" % (size, len(data), tag))\n",
      "C:\\ProgramData\\Anaconda3\\lib\\site-packages\\PIL\\TiffImagePlugin.py:780: UserWarning: Corrupt EXIF data.  Expecting to read 12 bytes but only got 6. \n",
      "  warnings.warn(str(msg))\n",
      "C:\\ProgramData\\Anaconda3\\lib\\site-packages\\PIL\\TiffImagePlugin.py:763: UserWarning: Possibly corrupt EXIF data.  Expecting to read 262146 bytes but only got 0. Skipping tag 2\n",
      "  \" Skipping tag %s\" % (size, len(data), tag))\n",
      "C:\\ProgramData\\Anaconda3\\lib\\site-packages\\PIL\\TiffImagePlugin.py:763: UserWarning: Possibly corrupt EXIF data.  Expecting to read 262151 bytes but only got 0. Skipping tag 56\n",
      "  \" Skipping tag %s\" % (size, len(data), tag))\n",
      "C:\\ProgramData\\Anaconda3\\lib\\site-packages\\PIL\\TiffImagePlugin.py:780: UserWarning: Corrupt EXIF data.  Expecting to read 12 bytes but only got 0. \n",
      "  warnings.warn(str(msg))\n"
     ]
    },
    {
     "name": "stdout",
     "output_type": "stream",
     "text": [
      "100/100 [==============================] - 159s 2s/step - loss: 0.6859 - acc: 0.5300 - val_loss: 0.6912 - val_acc: 0.5825\n",
      "Epoch 3/50\n",
      "100/100 [==============================] - 70s 696ms/step - loss: 0.6920 - acc: 0.4900 - val_loss: 0.6883 - val_acc: 0.5548\n",
      "Epoch 4/50\n",
      "100/100 [==============================] - 70s 702ms/step - loss: 0.6871 - acc: 0.5312 - val_loss: 0.6931 - val_acc: 0.4959\n",
      "Epoch 5/50\n",
      "100/100 [==============================] - 70s 699ms/step - loss: 0.6931 - acc: 0.5150 - val_loss: 0.6931 - val_acc: 0.502830 - acc: 0\n",
      "Epoch 6/50\n",
      "100/100 [==============================] - 70s 698ms/step - loss: 0.6929 - acc: 0.5162 - val_loss: 0.6932 - val_acc: 0.5020s - ETA: 0s - loss: 0.6928 - \n",
      "Epoch 7/50\n",
      "100/100 [==============================] - 69s 690ms/step - loss: 0.6931 - acc: 0.5100 - val_loss: 0.6931 - val_acc: 0.5039\n",
      "Epoch 8/50\n",
      "100/100 [==============================] - 69s 688ms/step - loss: 0.6935 - acc: 0.4800 - val_loss: 0.6933 - val_acc: 0.4854\n",
      "Epoch 9/50\n",
      "100/100 [==============================] - 70s 697ms/step - loss: 0.6923 - acc: 0.5438 - val_loss: 0.6932 - val_acc: 0.5011\n",
      "Epoch 10/50\n",
      "100/100 [==============================] - 69s 690ms/step - loss: 0.6929 - acc: 0.5125 - val_loss: 0.6932 - val_acc: 0.5040\n",
      "Epoch 11/50\n",
      "100/100 [==============================] - 69s 690ms/step - loss: 0.6930 - acc: 0.5125 - val_loss: 0.6932 - val_acc: 0.5034\n",
      "Epoch 12/50\n",
      "100/100 [==============================] - 69s 692ms/step - loss: 0.6942 - acc: 0.4713 - val_loss: 0.6932 - val_acc: 0.4998\n",
      "Epoch 13/50\n",
      "100/100 [==============================] - 69s 691ms/step - loss: 0.6935 - acc: 0.4763 - val_loss: 0.6932 - val_acc: 0.4977\n",
      "Epoch 14/50\n",
      "100/100 [==============================] - 69s 694ms/step - loss: 0.6932 - acc: 0.4963 - val_loss: 0.6931 - val_acc: 0.5046\n",
      "Epoch 15/50\n",
      "100/100 [==============================] - 69s 693ms/step - loss: 0.6933 - acc: 0.4875 - val_loss: 0.6931 - val_acc: 0.4945\n",
      "Epoch 16/50\n",
      "100/100 [==============================] - 69s 690ms/step - loss: 0.6930 - acc: 0.4925 - val_loss: 0.6931 - val_acc: 0.5041\n",
      "Epoch 17/50\n",
      "100/100 [==============================] - 69s 689ms/step - loss: 0.6692 - acc: 0.5650 - val_loss: 0.6915 - val_acc: 0.5010\n",
      "Epoch 18/50\n",
      "100/100 [==============================] - 70s 703ms/step - loss: 0.6823 - acc: 0.5850 - val_loss: 0.6427 - val_acc: 0.6344\n",
      "Epoch 19/50\n",
      "100/100 [==============================] - 71s 706ms/step - loss: 0.6705 - acc: 0.5825 - val_loss: 0.6603 - val_acc: 0.5847\n",
      "Epoch 20/50\n",
      "100/100 [==============================] - 70s 702ms/step - loss: 0.6420 - acc: 0.6300 - val_loss: 0.6106 - val_acc: 0.6778 \n",
      "Epoch 21/50\n",
      "100/100 [==============================] - 72s 716ms/step - loss: 0.6265 - acc: 0.6713 - val_loss: 0.6331 - val_acc: 0.6635\n",
      "Epoch 22/50\n",
      "100/100 [==============================] - 73s 730ms/step - loss: 0.6341 - acc: 0.6462 - val_loss: 0.6026 - val_acc: 0.6987loss: 0.6354 - acc: 0.\n",
      "Epoch 23/50\n",
      "100/100 [==============================] - 71s 707ms/step - loss: 0.5990 - acc: 0.6900 - val_loss: 0.6052 - val_acc: 0.6460\n",
      "Epoch 24/50\n",
      "100/100 [==============================] - 71s 711ms/step - loss: 0.6082 - acc: 0.6887 - val_loss: 0.5851 - val_acc: 0.6806\n",
      "Epoch 25/50\n",
      "100/100 [==============================] - 71s 715ms/step - loss: 0.5525 - acc: 0.7188 - val_loss: 0.5714 - val_acc: 0.6972\n",
      "Epoch 26/50\n",
      "100/100 [==============================] - 72s 718ms/step - loss: 0.5695 - acc: 0.6950 - val_loss: 0.5440 - val_acc: 0.7316s - loss: 0.5549 - acc: 0.718 - ETA: 6s - loss: 0.5 - ETA: 5s - loss: 0.5820 - ac - ETA: 4s - loss: 0.5866 - acc: 0.677 - ETA: 4s - loss: 0.5904 - acc: 0.6 - ETA: 4s - loss: 0.5980\n",
      "Epoch 27/50\n",
      "100/100 [==============================] - 72s 717ms/step - loss: 0.5789 - acc: 0.7100 - val_loss: 0.5515 - val_acc: 0.7300\n",
      "Epoch 28/50\n",
      "100/100 [==============================] - 71s 715ms/step - loss: 0.5755 - acc: 0.6963 - val_loss: 0.5412 - val_acc: 0.727510 - ETA: 5s - loss: 0.5615 - acc: 0. - ETA - ETA: 1s - loss:\n",
      "Epoch 29/50\n",
      "100/100 [==============================] - 71s 714ms/step - loss: 0.5807 - acc: 0.7137 - val_loss: 0.5401 - val_acc: 0.7270\n",
      "Epoch 30/50\n",
      "100/100 [==============================] - 72s 716ms/step - loss: 0.5619 - acc: 0.7050 - val_loss: 0.5613 - val_acc: 0.7027\n",
      "Epoch 31/50\n",
      "100/100 [==============================] - 72s 719ms/step - loss: 0.5242 - acc: 0.7437 - val_loss: 0.5311 - val_acc: 0.7328 - loss: 0.5874 - acc: 0.767 - ETA: 6s - loss: 0.5905 - acc: - ETA: 6s - loss: - ET - ETA: 2s - loss: 0.5201 - acc:  - ETA: 2s - lo\n",
      "Epoch 32/50\n",
      "100/100 [==============================] - 73s 734ms/step - loss: 0.5313 - acc: 0.7400 - val_loss: 0.5417 - val_acc: 0.7183\n",
      "Epoch 33/50\n",
      "100/100 [==============================] - 71s 711ms/step - loss: 0.5188 - acc: 0.7438 - val_loss: 0.5339 - val_acc: 0.7267: 0.5240 - acc: 0.738 - ETA: 2s - \n",
      "Epoch 34/50\n",
      "100/100 [==============================] - 71s 712ms/step - loss: 0.5244 - acc: 0.7463 - val_loss: 0.5359 - val_acc: 0.7410\n",
      "Epoch 35/50\n",
      "100/100 [==============================] - 72s 725ms/step - loss: 0.5339 - acc: 0.7350 - val_loss: 0.5057 - val_acc: 0.7481\n",
      "Epoch 36/50\n",
      "100/100 [==============================] - 70s 705ms/step - loss: 0.5282 - acc: 0.7412 - val_loss: 0.5060 - val_acc: 0.7533\n",
      "Epoch 37/50\n",
      "100/100 [==============================] - 69s 689ms/step - loss: 0.5078 - acc: 0.7588 - val_loss: 0.4844 - val_acc: 0.7641 - loss: 0.4858 - acc: 0.7 - ETA: 7s - loss: 0.4840 - ac\n",
      "Epoch 38/50\n",
      "100/100 [==============================] - 70s 700ms/step - loss: 0.5270 - acc: 0.7550 - val_loss: 0.4890 - val_acc: 0.7662\n",
      "Epoch 39/50\n",
      "100/100 [==============================] - 72s 722ms/step - loss: 0.5381 - acc: 0.7262 - val_loss: 0.4740 - val_acc: 0.7778\n",
      "Epoch 40/50\n",
      "100/100 [==============================] - 70s 696ms/step - loss: 0.5516 - acc: 0.7113 - val_loss: 0.4712 - val_acc: 0.7785\n",
      "Epoch 41/50\n",
      "100/100 [==============================] - 70s 701ms/step - loss: 0.5226 - acc: 0.7463 - val_loss: 0.4818 - val_acc: 0.7719\n",
      "Epoch 42/50\n",
      "100/100 [==============================] - 73s 731ms/step - loss: 0.5038 - acc: 0.7662 - val_loss: 0.4656 - val_acc: 0.7880\n",
      "Epoch 43/50\n",
      "100/100 [==============================] - 71s 711ms/step - loss: 0.4905 - acc: 0.7700 - val_loss: 0.4725 - val_acc: 0.7714loss: \n",
      "Epoch 44/50\n",
      "100/100 [==============================] - 71s 711ms/step - loss: 0.5125 - acc: 0.7400 - val_loss: 0.4731 - val_acc: 0.77462s - loss: 0.5174 - ac - ETA: 1s - loss: 0.5060 - acc - ETA: 0s - loss: 0.5125 - acc: \n",
      "Epoch 45/50\n",
      "100/100 [==============================] - 71s 709ms/step - loss: 0.4874 - acc: 0.7675 - val_loss: 0.4558 - val_acc: 0.7883\n",
      "Epoch 46/50\n",
      "100/100 [==============================] - 72s 724ms/step - loss: 0.4725 - acc: 0.7787 - val_loss: 0.4476 - val_acc: 0.7884\n",
      "Epoch 47/50\n",
      "100/100 [==============================] - 70s 699ms/step - loss: 0.4399 - acc: 0.8000 - val_loss: 0.4437 - val_acc: 0.7963\n",
      "Epoch 48/50\n",
      "100/100 [==============================] - 69s 695ms/step - loss: 0.4657 - acc: 0.7712 - val_loss: 0.4604 - val_acc: 0.7866 4s - loss: 0.4308 - acc - ETA: 4s - loss: 0.4403 - a - ETA: 3s - los - ETA: 1s - loss: 0.4693 - acc: 0 - ETA: 1s - loss: 0.4663 -\n",
      "Epoch 49/50\n",
      "100/100 [==============================] - 70s 701ms/step - loss: 0.4751 - acc: 0.7938 - val_loss: 0.4256 - val_acc: 0.8031\n",
      "Epoch 50/50\n",
      "100/100 [==============================] - 70s 695ms/step - loss: 0.4578 - acc: 0.7800 - val_loss: 0.4243 - val_acc: 0.8080 - loss: 0.4702 - acc: 0 - E\n"
     ]
    },
    {
     "data": {
      "text/plain": [
       "<keras.callbacks.History at 0x50d852f978>"
      ]
     },
     "execution_count": 13,
     "metadata": {},
     "output_type": "execute_result"
    }
   ],
   "source": [
    "classifier.fit_generator(\n",
    "    train_set,\n",
    "    steps_per_epoch=100,\n",
    "    epochs=50,\n",
    "    validation_data=test_set,\n",
    "    validation_steps=800)"
   ]
  },
  {
   "cell_type": "code",
   "execution_count": 14,
   "metadata": {},
   "outputs": [],
   "source": [
    "from keras.preprocessing import image"
   ]
  },
  {
   "cell_type": "markdown",
   "metadata": {},
   "source": [
    "Printing the Summary of the CNN Model"
   ]
  },
  {
   "cell_type": "code",
   "execution_count": 17,
   "metadata": {},
   "outputs": [
    {
     "name": "stdout",
     "output_type": "stream",
     "text": [
      "_________________________________________________________________\n",
      "Layer (type)                 Output Shape              Param #   \n",
      "=================================================================\n",
      "conv2d_1 (Conv2D)            (None, 62, 62, 32)        896       \n",
      "_________________________________________________________________\n",
      "max_pooling2d_1 (MaxPooling2 (None, 31, 31, 32)        0         \n",
      "_________________________________________________________________\n",
      "flatten_1 (Flatten)          (None, 30752)             0         \n",
      "_________________________________________________________________\n",
      "dense_1 (Dense)              (None, 32)                984096    \n",
      "_________________________________________________________________\n",
      "dense_2 (Dense)              (None, 1)                 33        \n",
      "=================================================================\n",
      "Total params: 985,025\n",
      "Trainable params: 985,025\n",
      "Non-trainable params: 0\n",
      "_________________________________________________________________\n"
     ]
    }
   ],
   "source": [
    "classifier.summary()"
   ]
  },
  {
   "cell_type": "markdown",
   "metadata": {},
   "source": [
    "After running epochs the CNN Model is able to classify images as either Cat or Dog."
   ]
  },
  {
   "cell_type": "code",
   "execution_count": 36,
   "metadata": {},
   "outputs": [
    {
     "name": "stdout",
     "output_type": "stream",
     "text": [
      "Cat\n"
     ]
    }
   ],
   "source": [
    " \n",
    "test_image = image.load_img(r'C:\\Users\\Administrator\\PetImages\\Cat\\30.jpg', target_size=(64,64))\n",
    "test_image = image.img_to_array(test_image)\n",
    "test_image = np.expand_dims(test_image, axis=0)\n",
    "result = classifier.predict(test_image)\n",
    "\n",
    "\n",
    "if result[0][0] <=0.5:\n",
    "    print('Cat')\n",
    "else:\n",
    "    print('Dog')\n",
    "\n"
   ]
  },
  {
   "cell_type": "markdown",
   "metadata": {},
   "source": [
    "Thats It :)  :)  :)"
   ]
  }
 ],
 "metadata": {
  "kernelspec": {
   "display_name": "Python 3",
   "language": "python",
   "name": "python3"
  },
  "language_info": {
   "codemirror_mode": {
    "name": "ipython",
    "version": 3
   },
   "file_extension": ".py",
   "mimetype": "text/x-python",
   "name": "python",
   "nbconvert_exporter": "python",
   "pygments_lexer": "ipython3",
   "version": "3.7.1"
  }
 },
 "nbformat": 4,
 "nbformat_minor": 2
}
