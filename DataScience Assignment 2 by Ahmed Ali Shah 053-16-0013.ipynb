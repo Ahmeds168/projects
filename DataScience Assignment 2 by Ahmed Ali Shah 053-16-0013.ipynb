{
 "cells": [
  {
   "cell_type": "code",
   "execution_count": 27,
   "metadata": {},
   "outputs": [],
   "source": [
    "import os,shutil\n",
    "import numpy as np"
   ]
  },
  {
   "cell_type": "code",
   "execution_count": 47,
   "metadata": {},
   "outputs": [],
   "source": [
    "\n",
    "from keras import models\n",
    "from keras import layers"
   ]
  },
  {
   "cell_type": "code",
   "execution_count": 2,
   "metadata": {},
   "outputs": [
    {
     "name": "stdout",
     "output_type": "stream",
     "text": [
      "C:\\Users\\DELL\n"
     ]
    }
   ],
   "source": [
    "print(os.getcwd())"
   ]
  },
  {
   "cell_type": "code",
   "execution_count": 19,
   "metadata": {},
   "outputs": [
    {
     "name": "stdout",
     "output_type": "stream",
     "text": [
      "101\n"
     ]
    }
   ],
   "source": [
    "total =len(os.listdir(\"caltech-original-prepared\\\\train\"))\n",
    "print(total)\n",
    "folderlist = os.listdir(\"caltech-original-prepared\\\\train\")\n",
    "dst = \"caltech-original-prepared\\\\val\"\n",
    "## create all the classess in validation folder\n",
    "for folder in folderlist:\n",
    "    dst = \"caltech-original-prepared\\\\val\"\n",
    "    dst = os.path.join(dst,folder)\n",
    "    if (not(os.path.exists(dst))):\n",
    "        os.mkdir(dst)"
   ]
  },
  {
   "cell_type": "code",
   "execution_count": 43,
   "metadata": {},
   "outputs": [
    {
     "name": "stdout",
     "output_type": "stream",
     "text": [
      "copied\n"
     ]
    }
   ],
   "source": [
    "# transfer 50% images of train to validation\n",
    "for f in folderlist:\n",
    "    src = \"caltech-original-prepared\\\\train\"\n",
    "    src = os.path.join(src , f)\n",
    "    total = len(os.listdir(src))\n",
    "    half = int(total/2)\n",
    "    dst = src.replace(\"train\",\"val\")\n",
    "    imagelist = os.listdir(src)\n",
    "    for i in range(half):\n",
    "        src = \"caltech-original-prepared\\\\train\"\n",
    "        src = os.path.join(src , f)\n",
    "        src = os.path.join(src , imagelist[i])\n",
    "        dst = src.replace(\"train\",\"val\")\n",
    "        shutil.copyfile(src,dst)\n",
    "print(\"copied\")"
   ]
  },
  {
   "cell_type": "code",
   "execution_count": 58,
   "metadata": {},
   "outputs": [],
   "source": [
    "model = models.Sequential()\n",
    "model.add(layers.Conv2D(32, (3, 3), activation='relu', input_shape=(150, 150, 3)))\n",
    "model.add(layers.MaxPooling2D((2, 2)))\n",
    "model.add(layers.Conv2D(64, (3, 3), activation='relu'))\n",
    "model.add(layers.MaxPooling2D((2, 2)))\n",
    "model.add(layers.Conv2D(128, (3, 3), activation='relu'))\n",
    "model.add(layers.MaxPooling2D((2, 2)))\n",
    "model.add(layers.Conv2D(128, (3, 3), activation='relu'))\n",
    "model.add(layers.MaxPooling2D((2, 2)))\n",
    "model.add(layers.Flatten())\n",
    "model.add(layers.Dense(512, activation='relu'))\n",
    "model.add(layers.Dense(101, activation='sigmoid'))"
   ]
  },
  {
   "cell_type": "code",
   "execution_count": 59,
   "metadata": {},
   "outputs": [
    {
     "name": "stdout",
     "output_type": "stream",
     "text": [
      "_________________________________________________________________\n",
      "Layer (type)                 Output Shape              Param #   \n",
      "=================================================================\n",
      "conv2d_5 (Conv2D)            (None, 148, 148, 32)      896       \n",
      "_________________________________________________________________\n",
      "max_pooling2d_5 (MaxPooling2 (None, 74, 74, 32)        0         \n",
      "_________________________________________________________________\n",
      "conv2d_6 (Conv2D)            (None, 72, 72, 64)        18496     \n",
      "_________________________________________________________________\n",
      "max_pooling2d_6 (MaxPooling2 (None, 36, 36, 64)        0         \n",
      "_________________________________________________________________\n",
      "conv2d_7 (Conv2D)            (None, 34, 34, 128)       73856     \n",
      "_________________________________________________________________\n",
      "max_pooling2d_7 (MaxPooling2 (None, 17, 17, 128)       0         \n",
      "_________________________________________________________________\n",
      "conv2d_8 (Conv2D)            (None, 15, 15, 128)       147584    \n",
      "_________________________________________________________________\n",
      "max_pooling2d_8 (MaxPooling2 (None, 7, 7, 128)         0         \n",
      "_________________________________________________________________\n",
      "flatten_2 (Flatten)          (None, 6272)              0         \n",
      "_________________________________________________________________\n",
      "dense_3 (Dense)              (None, 512)               3211776   \n",
      "_________________________________________________________________\n",
      "dense_4 (Dense)              (None, 101)               51813     \n",
      "=================================================================\n",
      "Total params: 3,504,421\n",
      "Trainable params: 3,504,421\n",
      "Non-trainable params: 0\n",
      "_________________________________________________________________\n"
     ]
    }
   ],
   "source": [
    "model.summary()"
   ]
  },
  {
   "cell_type": "code",
   "execution_count": 60,
   "metadata": {},
   "outputs": [],
   "source": [
    "from keras import optimizers\n",
    "\n",
    "model.compile(loss='categorical_crossentropy',\n",
    "              optimizer=optimizers.RMSprop(lr=1e-4),\n",
    "              metrics=['acc'])"
   ]
  },
  {
   "cell_type": "code",
   "execution_count": 61,
   "metadata": {},
   "outputs": [],
   "source": [
    "train_dir = r\"C:\\Users\\DELL\\caltech-original-prepared\\train\"\n",
    "validation_dir = r\"C:\\Users\\DELL\\caltech-original-prepared\\val\""
   ]
  },
  {
   "cell_type": "code",
   "execution_count": 63,
   "metadata": {},
   "outputs": [
    {
     "name": "stdout",
     "output_type": "stream",
     "text": [
      "Found 7374 images belonging to 101 classes.\n",
      "Found 1303 images belonging to 101 classes.\n"
     ]
    }
   ],
   "source": [
    "from keras.preprocessing.image import ImageDataGenerator\n",
    "\n",
    "# All images will be rescaled by 1./255\n",
    "train_datagen = ImageDataGenerator(rescale=1./255)\n",
    "test_datagen = ImageDataGenerator(rescale=1./255)\n",
    "\n",
    "train_generator = train_datagen.flow_from_directory(\n",
    "        # This is the target directory\n",
    "        train_dir,\n",
    "        # All images will be resized to 150x150\n",
    "        target_size=(150, 150),\n",
    "        batch_size=20,\n",
    "        # Since we use categorical_crossentropy loss, we need binary labels\n",
    "        class_mode='categorical')\n",
    "\n",
    "validation_generator = test_datagen.flow_from_directory(\n",
    "        validation_dir,\n",
    "        target_size=(150, 150),\n",
    "        batch_size=20,\n",
    "        class_mode='categorical')\n"
   ]
  },
  {
   "cell_type": "code",
   "execution_count": 67,
   "metadata": {},
   "outputs": [
    {
     "name": "stdout",
     "output_type": "stream",
     "text": [
      "Epoch 1/15\n",
      "100/100 [==============================] - 41s 405ms/step - loss: nan - acc: 0.0545 - val_loss: nan - val_acc: 0.0437\n",
      "Epoch 2/15\n",
      "100/100 [==============================] - 84s 844ms/step - loss: nan - acc: 0.0470 - val_loss: nan - val_acc: 0.0488\n",
      "Epoch 3/15\n",
      "100/100 [==============================] - 87s 866ms/step - loss: nan - acc: 0.0520 - val_loss: nan - val_acc: 0.0498\n",
      "Epoch 4/15\n",
      "100/100 [==============================] - 86s 857ms/step - loss: nan - acc: 0.0454 - val_loss: nan - val_acc: 0.0560\n",
      "Epoch 5/15\n",
      "100/100 [==============================] - 94s 942ms/step - loss: nan - acc: 0.0485 - val_loss: nan - val_acc: 0.0529\n",
      "Epoch 6/15\n",
      "100/100 [==============================] - 92s 919ms/step - loss: nan - acc: 0.0555 - val_loss: nan - val_acc: 0.0407\n",
      "Epoch 7/15\n",
      "100/100 [==============================] - 95s 947ms/step - loss: nan - acc: 0.0495 - val_loss: nan - val_acc: 0.0580\n",
      "Epoch 8/15\n",
      "100/100 [==============================] - 93s 932ms/step - loss: nan - acc: 0.0515 - val_loss: nan - val_acc: 0.0460\n",
      "Epoch 9/15\n",
      "100/100 [==============================] - 89s 885ms/step - loss: nan - acc: 0.0450 - val_loss: nan - val_acc: 0.0519\n",
      "Epoch 10/15\n",
      "100/100 [==============================] - 89s 891ms/step - loss: nan - acc: 0.0515 - val_loss: nan - val_acc: 0.0570\n",
      "Epoch 11/15\n",
      "100/100 [==============================] - 86s 857ms/step - loss: nan - acc: 0.0564 - val_loss: nan - val_acc: 0.0376\n",
      "Epoch 12/15\n",
      "100/100 [==============================] - 92s 915ms/step - loss: nan - acc: 0.0485 - val_loss: nan - val_acc: 0.0530\n",
      "Epoch 13/15\n",
      "100/100 [==============================] - 88s 879ms/step - loss: nan - acc: 0.0560 - val_loss: nan - val_acc: 0.0519\n",
      "Epoch 14/15\n",
      "100/100 [==============================] - 88s 882ms/step - loss: nan - acc: 0.0420 - val_loss: nan - val_acc: 0.0488\n",
      "Epoch 15/15\n",
      "100/100 [==============================] - 87s 868ms/step - loss: nan - acc: 0.0522 - val_loss: nan - val_acc: 0.0478\n"
     ]
    }
   ],
   "source": [
    "from PIL import Image\n",
    "history = model.fit_generator(\n",
    "      train_generator,\n",
    "      steps_per_epoch=100,\n",
    "      epochs=15,\n",
    "      validation_data=validation_generator,\n",
    "      validation_steps=50)"
   ]
  },
  {
   "cell_type": "code",
   "execution_count": 68,
   "metadata": {},
   "outputs": [],
   "source": [
    "model.save('caltech-original-prepared/CaltechModel.h5')"
   ]
  },
  {
   "cell_type": "code",
   "execution_count": 70,
   "metadata": {},
   "outputs": [
    {
     "data": {
      "image/png": "[encoded data removed]",
      "text/plain": [
       "<Figure size 432x288 with 1 Axes>"
      ]
     },
     "metadata": {
      "needs_background": "light"
     },
     "output_type": "display_data"
    },
    {
     "data": {
      "image/png": "[encoded data removed]",
      "text/plain": [
       "<Figure size 432x288 with 1 Axes>"
      ]
     },
     "metadata": {
      "needs_background": "light"
     },
     "output_type": "display_data"
    }
   ],
   "source": [
    "import matplotlib.pyplot as plt\n",
    "\n",
    "acc = history.history['acc']\n",
    "val_acc = history.history['val_acc']\n",
    "loss = history.history['loss']\n",
    "val_loss = history.history['val_loss']\n",
    "\n",
    "epochs = range(len(acc))\n",
    "\n",
    "plt.plot(epochs, acc, 'bo', label='Training acc')\n",
    "plt.plot(epochs, val_acc, 'b', label='Validation acc')\n",
    "plt.title('Training and validation accuracy')\n",
    "plt.legend()\n",
    "\n",
    "plt.figure()\n",
    "\n",
    "plt.plot(epochs, loss, 'bo', label='Training loss')\n",
    "plt.plot(epochs, val_loss, 'b', label='Validation loss')\n",
    "plt.title('Training and validation loss')\n",
    "plt.legend()\n",
    "\n",
    "plt.show()"
   ]
  }
 ],
 "metadata": {
  "kernelspec": {
   "display_name": "Python 3",
   "language": "python",
   "name": "python3"
  },
  "language_info": {
   "codemirror_mode": {
    "name": "ipython",
    "version": 3
   },
   "file_extension": ".py",
   "mimetype": "text/x-python",
   "name": "python",
   "nbconvert_exporter": "python",
   "pygments_lexer": "ipython3",
   "version": "3.6.10"
  }
 },
 "nbformat": 4,
 "nbformat_minor": 2
}
