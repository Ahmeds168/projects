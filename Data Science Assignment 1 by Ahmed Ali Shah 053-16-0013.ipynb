{
 "cells": [
  {
   "cell_type": "code",
   "execution_count": 1,
   "metadata": {},
   "outputs": [
    {
     "name": "stderr",
     "output_type": "stream",
     "text": [
      "Using TensorFlow backend.\n"
     ]
    }
   ],
   "source": [
    "import keras\n",
    "import os,shutil"
   ]
  },
  {
   "cell_type": "code",
   "execution_count": 4,
   "metadata": {},
   "outputs": [],
   "source": [
    "#original_dataset_dir= os.path.join(os.getcwd(),\"coil-20-unproc\")\n",
    "basepath = os.getcwd()\n",
    "basepath = os.path.join(basepath,\"coil-20-unproc\")\n",
    "base_dir = \"C:/Users/DELL/prepared\"\n",
    "\n",
    "if(not(os.path.exists(base_dir))):\n",
    "    os.mkdir(base_dir)\n",
    "    print(base_dir+' created')\n",
    "    \n",
    "train_dir = os.path.join(base_dir, 'train')\n",
    "if(not(os.path.exists(train_dir))):\n",
    "    os.mkdir(train_dir)\n",
    "test_dir = os.path.join(base_dir, 'test')\n",
    "if(not(os.path.exists(test_dir))):\n",
    "    os.mkdir(test_dir)\n",
    "validation_dir = os.path.join(base_dir, 'validation')\n",
    "if(not(os.path.exists(validation_dir))):\n",
    "    os.mkdir(validation_dir)\n"
   ]
  },
  {
   "cell_type": "code",
   "execution_count": 58,
   "metadata": {},
   "outputs": [],
   "source": [
    "# Directory with our training object1 pictures\n",
    "train_obj1_dir = os.path.join(train_dir, 'object1')\n",
    "if(not(os.path.exists(train_obj1_dir))):\n",
    "    os.mkdir(train_obj1_dir)\n",
    "# Directory with our training object2 pictures\n",
    "train_obj2_dir = os.path.join(train_dir, 'object2')\n",
    "if(not(os.path.exists(train_obj2_dir))):\n",
    "    os.mkdir(train_obj2_dir)\n",
    "# Directory with our training object3 pictures\n",
    "train_obj3_dir = os.path.join(train_dir, 'object3')\n",
    "if(not(os.path.exists(train_obj3_dir))):\n",
    "    os.mkdir(train_obj3_dir)\n",
    "# Directory with our training object4 pictures\n",
    "train_obj4_dir = os.path.join(train_dir, 'object4')\n",
    "if(not(os.path.exists(train_obj4_dir))):\n",
    "    os.mkdir(train_obj4_dir)\n",
    "# Directory with our training object5 pictures\n",
    "train_obj5_dir = os.path.join(train_dir, 'object5')\n",
    "if(not(os.path.exists(train_obj5_dir))):\n",
    "    os.mkdir(train_obj5_dir)"
   ]
  },
  {
   "cell_type": "code",
   "execution_count": 59,
   "metadata": {},
   "outputs": [],
   "source": [
    "# Directory with our testing object1 pictures\n",
    "test_obj1_dir = os.path.join(test_dir, 'object1')\n",
    "if(not(os.path.exists(test_obj1_dir))):\n",
    "    os.mkdir(test_obj1_dir)\n",
    "# Directory with our testing object2 pictures\n",
    "test_obj2_dir = os.path.join(test_dir, 'object2')\n",
    "if(not(os.path.exists(test_obj2_dir))):\n",
    "    os.mkdir(test_obj2_dir)\n",
    "# Directory with our testing object3 pictures\n",
    "test_obj3_dir = os.path.join(test_dir, 'object3')\n",
    "if(not(os.path.exists(test_obj3_dir))):\n",
    "    os.mkdir(test_obj3_dir)\n",
    "# Directory with our testing object4 pictures\n",
    "test_obj4_dir = os.path.join(test_dir, 'object4')\n",
    "if(not(os.path.exists(test_obj4_dir))):\n",
    "    os.mkdir(test_obj4_dir)\n",
    "# Directory with our testing object5 pictures\n",
    "test_obj5_dir = os.path.join(test_dir, 'object5')\n",
    "if(not(os.path.exists(test_obj5_dir))):\n",
    "    os.mkdir(test_obj5_dir)"
   ]
  },
  {
   "cell_type": "code",
   "execution_count": 60,
   "metadata": {},
   "outputs": [],
   "source": [
    "# Directory with our validation object1 pictures\n",
    "validation_obj1_dir = os.path.join(validation_dir, 'object1')\n",
    "if(not(os.path.exists(validation_obj1_dir))):\n",
    "    os.mkdir(validation_obj1_dir)\n",
    "# Directory with our validation object2 pictures\n",
    "validation_obj2_dir = os.path.join(validation_dir, 'object2')\n",
    "if(not(os.path.exists(validation_obj2_dir))):\n",
    "    os.mkdir(validation_obj2_dir)\n",
    "# Directory with our validation object3 pictures\n",
    "validation_obj3_dir = os.path.join(validation_dir, 'object3')\n",
    "if(not(os.path.exists(validation_obj3_dir))):\n",
    "    os.mkdir(validation_obj3_dir)\n",
    "# Directory with our validation object4 pictures\n",
    "validation_obj4_dir = os.path.join(validation_dir, 'object4')\n",
    "if(not(os.path.exists(validation_obj4_dir))):\n",
    "    os.mkdir(validation_obj4_dir)\n",
    "# Directory with our validation object5 pictures\n",
    "validation_obj5_dir = os.path.join(validation_dir, 'object5')\n",
    "if(not(os.path.exists(validation_obj5_dir))):\n",
    "    os.mkdir(validation_obj5_dir)"
   ]
  },
  {
   "cell_type": "code",
   "execution_count": 18,
   "metadata": {},
   "outputs": [
    {
     "name": "stdout",
     "output_type": "stream",
     "text": [
      "C:\\Users\\DELL\n"
     ]
    }
   ],
   "source": [
    "# Copy first 51 object1 images to train_obj1_dir\n",
    "fnames = ['obj1__{}.png'.format(i) for i in range(0,52)]\n",
    "print(os.getcwd())\n",
    "for fname in fnames:\n",
    "    src = os.path.join(basepath, fname)\n",
    "    dst = os.path.join(train_obj1_dir, fname)\n",
    "    #print(dst)\n",
    "    shutil.copyfile(src, dst)"
   ]
  },
  {
   "cell_type": "code",
   "execution_count": 19,
   "metadata": {},
   "outputs": [
    {
     "name": "stdout",
     "output_type": "stream",
     "text": [
      "C:\\Users\\DELL\n"
     ]
    }
   ],
   "source": [
    "# Copy first 51 object2 images to train_obj2_dir\n",
    "fnames = ['obj2__{}.png'.format(i) for i in range(0,52)]\n",
    "print(os.getcwd())\n",
    "for fname in fnames:\n",
    "    src = os.path.join(basepath, fname)\n",
    "    dst = os.path.join(train_obj2_dir, fname)\n",
    "    #print(dst)\n",
    "    shutil.copyfile(src, dst)"
   ]
  },
  {
   "cell_type": "code",
   "execution_count": 20,
   "metadata": {},
   "outputs": [
    {
     "name": "stdout",
     "output_type": "stream",
     "text": [
      "C:\\Users\\DELL\n"
     ]
    }
   ],
   "source": [
    "# Copy first 51 object3 images to train_obj3_dir\n",
    "fnames = ['obj3__{}.png'.format(i) for i in range(0,52)]\n",
    "print(os.getcwd())\n",
    "for fname in fnames:\n",
    "    src = os.path.join(basepath, fname)\n",
    "    dst = os.path.join(train_obj3_dir, fname)\n",
    "    #print(dst)\n",
    "    shutil.copyfile(src, dst)"
   ]
  },
  {
   "cell_type": "code",
   "execution_count": 21,
   "metadata": {},
   "outputs": [
    {
     "name": "stdout",
     "output_type": "stream",
     "text": [
      "C:\\Users\\DELL\n"
     ]
    }
   ],
   "source": [
    "# Copy first 51 object4 images to train_obj4_dir\n",
    "fnames = ['obj4__{}.png'.format(i) for i in range(0,52)]\n",
    "print(os.getcwd())\n",
    "for fname in fnames:\n",
    "    src = os.path.join(basepath, fname)\n",
    "    dst = os.path.join(train_obj4_dir, fname)\n",
    "    #print(dst)\n",
    "    shutil.copyfile(src, dst)"
   ]
  },
  {
   "cell_type": "code",
   "execution_count": 22,
   "metadata": {},
   "outputs": [
    {
     "name": "stdout",
     "output_type": "stream",
     "text": [
      "C:\\Users\\DELL\n"
     ]
    }
   ],
   "source": [
    "# Copy first 51  object5 images to train_obj2_dir\n",
    "fnames = ['obj5__{}.png'.format(i) for i in range(0,52)]\n",
    "print(os.getcwd())\n",
    "for fname in fnames:\n",
    "    src = os.path.join(basepath, fname)\n",
    "    dst = os.path.join(train_obj5_dir, fname)\n",
    "    #print(dst)\n",
    "    shutil.copyfile(src, dst)"
   ]
  },
  {
   "cell_type": "code",
   "execution_count": 24,
   "metadata": {},
   "outputs": [
    {
     "name": "stdout",
     "output_type": "stream",
     "text": [
      "C:\\Users\\DELL\n",
      "C:\\Users\\DELL\n",
      "C:\\Users\\DELL\n",
      "C:\\Users\\DELL\n",
      "C:\\Users\\DELL\n"
     ]
    }
   ],
   "source": [
    "# Copy next 10 object1 images to test_obj1_dir\n",
    "fnames = ['obj1__{}.png'.format(i) for i in range(52,62)]\n",
    "print(os.getcwd())\n",
    "for fname in fnames:\n",
    "    src = os.path.join(basepath, fname)\n",
    "    dst = os.path.join(test_obj1_dir, fname)\n",
    "    #print(dst)\n",
    "    shutil.copyfile(src, dst)\n",
    "    \n",
    "# Copy next 10 object2 images to test_obj2_dir\n",
    "fnames = ['obj2__{}.png'.format(i) for i in range(52,62)]\n",
    "print(os.getcwd())\n",
    "for fname in fnames:\n",
    "    src = os.path.join(basepath, fname)\n",
    "    dst = os.path.join(test_obj2_dir, fname)\n",
    "    #print(dst)\n",
    "    shutil.copyfile(src, dst)\n",
    "    \n",
    "# Copy next 10 object3 images to test_obj3_dir\n",
    "fnames = ['obj3__{}.png'.format(i) for i in range(52,62)]\n",
    "print(os.getcwd())\n",
    "for fname in fnames:\n",
    "    src = os.path.join(basepath, fname)\n",
    "    dst = os.path.join(test_obj3_dir, fname)\n",
    "    #print(dst)\n",
    "    shutil.copyfile(src, dst)\n",
    "    \n",
    "# Copy next 10 object4 images to test_obj4_dir\n",
    "fnames = ['obj4__{}.png'.format(i) for i in range(52,62)]\n",
    "print(os.getcwd())\n",
    "for fname in fnames:\n",
    "    src = os.path.join(basepath, fname)\n",
    "    dst = os.path.join(test_obj4_dir, fname)\n",
    "    #print(dst)\n",
    "    shutil.copyfile(src, dst)\n",
    "    \n",
    "# Copy next object5 images to test_obj5_dir\n",
    "fnames = ['obj5__{}.png'.format(i) for i in range(52,62)]\n",
    "print(os.getcwd())\n",
    "for fname in fnames:\n",
    "    src = os.path.join(basepath, fname)\n",
    "    dst = os.path.join(test_obj5_dir, fname)\n",
    "    #print(dst)\n",
    "    shutil.copyfile(src, dst)"
   ]
  },
  {
   "cell_type": "code",
   "execution_count": 25,
   "metadata": {},
   "outputs": [
    {
     "name": "stdout",
     "output_type": "stream",
     "text": [
      "C:\\Users\\DELL\n",
      "C:\\Users\\DELL\n",
      "C:\\Users\\DELL\n",
      "C:\\Users\\DELL\n",
      "C:\\Users\\DELL\n"
     ]
    }
   ],
   "source": [
    "# Copy next 10 object1 images to validation_obj1_dir\n",
    "fnames = ['obj1__{}.png'.format(i) for i in range(62,72)]\n",
    "print(os.getcwd())\n",
    "for fname in fnames:\n",
    "    src = os.path.join(basepath, fname)\n",
    "    dst = os.path.join(validation_obj1_dir, fname)\n",
    "    #print(dst)\n",
    "    shutil.copyfile(src, dst)\n",
    "    \n",
    "# Copy next 10 object3 images to validation_obj2_dir\n",
    "fnames = ['obj2__{}.png'.format(i) for i in range(62,72)]\n",
    "print(os.getcwd())\n",
    "for fname in fnames:\n",
    "    src = os.path.join(basepath, fname)\n",
    "    dst = os.path.join(validation_obj2_dir, fname)\n",
    "    #print(dst)\n",
    "    shutil.copyfile(src, dst)\n",
    "    \n",
    "# Copy next 10 object3 images to validation_obj3_dir\n",
    "fnames = ['obj3__{}.png'.format(i) for i in range(62,72)]\n",
    "print(os.getcwd())\n",
    "for fname in fnames:\n",
    "    src = os.path.join(basepath, fname)\n",
    "    dst = os.path.join(validation_obj3_dir, fname)\n",
    "    #print(dst)\n",
    "    shutil.copyfile(src, dst)\n",
    "    \n",
    "# Copy next 10 object4 images to validation_obj4_dir\n",
    "fnames = ['obj4__{}.png'.format(i) for i in range(62,72)]\n",
    "print(os.getcwd())\n",
    "for fname in fnames:\n",
    "    src = os.path.join(basepath, fname)\n",
    "    dst = os.path.join(validation_obj4_dir, fname)\n",
    "    #print(dst)\n",
    "    shutil.copyfile(src, dst)\n",
    "    \n",
    "# Copy next 10 object5 images to validation_obj5_dir\n",
    "fnames = ['obj5__{}.png'.format(i) for i in range(62,72)]\n",
    "print(os.getcwd())\n",
    "for fname in fnames:\n",
    "    src = os.path.join(basepath, fname)\n",
    "    dst = os.path.join(validation_obj5_dir, fname)\n",
    "    #print(dst)\n",
    "    shutil.copyfile(src, dst)"
   ]
  },
  {
   "cell_type": "code",
   "execution_count": 26,
   "metadata": {},
   "outputs": [
    {
     "name": "stdout",
     "output_type": "stream",
     "text": [
      "total training obj1 images: 52\n"
     ]
    }
   ],
   "source": [
    "print('total training obj1 images:', len(os.listdir(train_obj1_dir)))"
   ]
  },
  {
   "cell_type": "code",
   "execution_count": 27,
   "metadata": {},
   "outputs": [
    {
     "name": "stdout",
     "output_type": "stream",
     "text": [
      "total testing obj1 images: 10\n"
     ]
    }
   ],
   "source": [
    "print('total testing obj1 images:', len(os.listdir(test_obj1_dir))) "
   ]
  },
  {
   "cell_type": "code",
   "execution_count": 28,
   "metadata": {},
   "outputs": [
    {
     "name": "stdout",
     "output_type": "stream",
     "text": [
      "total validation obj1 images: 10\n"
     ]
    }
   ],
   "source": [
    "print('total validation obj1 images:', len(os.listdir(validation_obj1_dir)))"
   ]
  },
  {
   "cell_type": "code",
   "execution_count": 42,
   "metadata": {},
   "outputs": [
    {
     "name": "stdout",
     "output_type": "stream",
     "text": [
      "total training obj2 images: 52\n"
     ]
    }
   ],
   "source": [
    "print('total training obj2 images:', len(os.listdir(train_obj2_dir)))"
   ]
  },
  {
   "cell_type": "code",
   "execution_count": 41,
   "metadata": {},
   "outputs": [
    {
     "name": "stdout",
     "output_type": "stream",
     "text": [
      "total testing obj2 images: 10\n"
     ]
    }
   ],
   "source": [
    "print('total testing obj2 images:', len(os.listdir(test_obj2_dir)))"
   ]
  },
  {
   "cell_type": "code",
   "execution_count": 40,
   "metadata": {},
   "outputs": [
    {
     "name": "stdout",
     "output_type": "stream",
     "text": [
      "total validation obj2 images: 10\n"
     ]
    }
   ],
   "source": [
    "print('total validation obj2 images:', len(os.listdir(validation_obj2_dir)))"
   ]
  },
  {
   "cell_type": "code",
   "execution_count": 39,
   "metadata": {},
   "outputs": [
    {
     "name": "stdout",
     "output_type": "stream",
     "text": [
      "total training obj3 images: 52\n"
     ]
    }
   ],
   "source": [
    "print('total training obj3 images:', len(os.listdir(train_obj3_dir)))"
   ]
  },
  {
   "cell_type": "code",
   "execution_count": 33,
   "metadata": {},
   "outputs": [
    {
     "name": "stdout",
     "output_type": "stream",
     "text": [
      "total testing obj3 images: 10\n"
     ]
    }
   ],
   "source": [
    "print('total testing obj3 images:', len(os.listdir(test_obj3_dir)))"
   ]
  },
  {
   "cell_type": "code",
   "execution_count": 38,
   "metadata": {},
   "outputs": [
    {
     "name": "stdout",
     "output_type": "stream",
     "text": [
      "total validation obj3 images: 10\n"
     ]
    }
   ],
   "source": [
    "print('total validation obj3 images:', len(os.listdir(validation_obj3_dir)))"
   ]
  },
  {
   "cell_type": "code",
   "execution_count": 37,
   "metadata": {},
   "outputs": [
    {
     "name": "stdout",
     "output_type": "stream",
     "text": [
      "total training obj4 images: 52\n"
     ]
    }
   ],
   "source": [
    "print('total training obj4 images:', len(os.listdir(train_obj4_dir)))"
   ]
  },
  {
   "cell_type": "code",
   "execution_count": 36,
   "metadata": {},
   "outputs": [
    {
     "name": "stdout",
     "output_type": "stream",
     "text": [
      "total testing obj4 images: 10\n"
     ]
    }
   ],
   "source": [
    "print('total testing obj4 images:', len(os.listdir(test_obj4_dir)))"
   ]
  },
  {
   "cell_type": "code",
   "execution_count": 35,
   "metadata": {},
   "outputs": [
    {
     "name": "stdout",
     "output_type": "stream",
     "text": [
      "total validation obj4 images: 10\n"
     ]
    }
   ],
   "source": [
    "print('total validation obj4 images:', len(os.listdir(validation_obj4_dir)))"
   ]
  },
  {
   "cell_type": "code",
   "execution_count": 32,
   "metadata": {},
   "outputs": [
    {
     "name": "stdout",
     "output_type": "stream",
     "text": [
      "total training obj5 images: 52\n"
     ]
    }
   ],
   "source": [
    "print('total training obj5 images:', len(os.listdir(train_obj5_dir)))"
   ]
  },
  {
   "cell_type": "code",
   "execution_count": 34,
   "metadata": {},
   "outputs": [
    {
     "name": "stdout",
     "output_type": "stream",
     "text": [
      "total testing obj5 images: 10\n"
     ]
    }
   ],
   "source": [
    "print('total testing obj5 images:', len(os.listdir(test_obj5_dir)))"
   ]
  },
  {
   "cell_type": "code",
   "execution_count": 30,
   "metadata": {},
   "outputs": [
    {
     "name": "stdout",
     "output_type": "stream",
     "text": [
      "total validation obj5 images: 10\n"
     ]
    }
   ],
   "source": [
    "print('total validation obj5 images:', len(os.listdir(validation_obj5_dir)))"
   ]
  },
  {
   "cell_type": "code",
   "execution_count": 8,
   "metadata": {},
   "outputs": [],
   "source": [
    "from keras import models\n",
    "from keras import layers"
   ]
  },
  {
   "cell_type": "code",
   "execution_count": 50,
   "metadata": {},
   "outputs": [],
   "source": [
    "model = models.Sequential()\n",
    "model.add(layers.Conv2D(32, (3, 3), activation='relu', input_shape=(150, 150, 3)))\n",
    "model.add(layers.MaxPooling2D((2, 2)))\n",
    "model.add(layers.Conv2D(64, (3, 3), activation='relu'))\n",
    "model.add(layers.MaxPooling2D((2, 2)))\n",
    "model.add(layers.Conv2D(128, (3, 3), activation='relu'))\n",
    "model.add(layers.MaxPooling2D((2, 2)))\n",
    "model.add(layers.Conv2D(128, (3, 3), activation='relu'))\n",
    "model.add(layers.MaxPooling2D((2, 2)))\n",
    "model.add(layers.Flatten())\n",
    "model.add(layers.Dense(512, activation='relu'))\n",
    "model.add(layers.Dense(5, activation='sigmoid'))"
   ]
  },
  {
   "cell_type": "code",
   "execution_count": 51,
   "metadata": {},
   "outputs": [
    {
     "name": "stdout",
     "output_type": "stream",
     "text": [
      "_________________________________________________________________\n",
      "Layer (type)                 Output Shape              Param #   \n",
      "=================================================================\n",
      "conv2d_29 (Conv2D)           (None, 148, 148, 32)      896       \n",
      "_________________________________________________________________\n",
      "max_pooling2d_29 (MaxPooling (None, 74, 74, 32)        0         \n",
      "_________________________________________________________________\n",
      "conv2d_30 (Conv2D)           (None, 72, 72, 64)        18496     \n",
      "_________________________________________________________________\n",
      "max_pooling2d_30 (MaxPooling (None, 36, 36, 64)        0         \n",
      "_________________________________________________________________\n",
      "conv2d_31 (Conv2D)           (None, 34, 34, 128)       73856     \n",
      "_________________________________________________________________\n",
      "max_pooling2d_31 (MaxPooling (None, 17, 17, 128)       0         \n",
      "_________________________________________________________________\n",
      "conv2d_32 (Conv2D)           (None, 15, 15, 128)       147584    \n",
      "_________________________________________________________________\n",
      "max_pooling2d_32 (MaxPooling (None, 7, 7, 128)         0         \n",
      "_________________________________________________________________\n",
      "flatten_8 (Flatten)          (None, 6272)              0         \n",
      "_________________________________________________________________\n",
      "dense_15 (Dense)             (None, 512)               3211776   \n",
      "_________________________________________________________________\n",
      "dense_16 (Dense)             (None, 5)                 2565      \n",
      "=================================================================\n",
      "Total params: 3,455,173\n",
      "Trainable params: 3,455,173\n",
      "Non-trainable params: 0\n",
      "_________________________________________________________________\n"
     ]
    }
   ],
   "source": [
    "model.summary()"
   ]
  },
  {
   "cell_type": "code",
   "execution_count": 52,
   "metadata": {},
   "outputs": [],
   "source": [
    "from keras import optimizers\n",
    "\n",
    "model.compile(loss='categorical_crossentropy',\n",
    "              optimizer=optimizers.RMSprop(lr=1e-4),\n",
    "              metrics=['acc'])"
   ]
  },
  {
   "cell_type": "code",
   "execution_count": 53,
   "metadata": {},
   "outputs": [
    {
     "name": "stdout",
     "output_type": "stream",
     "text": [
      "Found 260 images belonging to 5 classes.\n",
      "Found 50 images belonging to 5 classes.\n"
     ]
    }
   ],
   "source": [
    "from keras.preprocessing.image import ImageDataGenerator\n",
    "\n",
    "# All images will be rescaled by 1./255\n",
    "train_datagen = ImageDataGenerator(rescale=1./255)\n",
    "test_datagen = ImageDataGenerator(rescale=1./255)\n",
    "\n",
    "train_generator = train_datagen.flow_from_directory(\n",
    "        # This is the target directory\n",
    "        train_dir,\n",
    "        # All images will be resized to 150x150\n",
    "        target_size=(150, 150),\n",
    "        batch_size=20,\n",
    "        # Since we use binary_crossentropy loss, we need binary labels\n",
    "        class_mode='categorical')\n",
    "\n",
    "validation_generator = test_datagen.flow_from_directory(\n",
    "        validation_dir,\n",
    "        target_size=(150, 150),\n",
    "        batch_size=20,\n",
    "        class_mode='categorical')\n"
   ]
  },
  {
   "cell_type": "code",
   "execution_count": 54,
   "metadata": {},
   "outputs": [
    {
     "name": "stdout",
     "output_type": "stream",
     "text": [
      "Epoch 1/30\n",
      "100/100 [==============================] - 103s 1s/step - loss: 0.2073 - acc: 0.9440 - val_loss: 0.0142 - val_acc: 1.0000\n",
      "Epoch 2/30\n",
      "100/100 [==============================] - 98s 978ms/step - loss: 2.2844e-04 - acc: 1.0000 - val_loss: 0.0062 - val_acc: 1.0000\n",
      "Epoch 3/30\n",
      "100/100 [==============================] - 95s 952ms/step - loss: nan - acc: 0.3755 - val_loss: nan - val_acc: 0.2012\n",
      "Epoch 4/30\n",
      "100/100 [==============================] - 94s 942ms/step - loss: nan - acc: 0.1990 - val_loss: nan - val_acc: 0.2012\n",
      "Epoch 5/30\n",
      "100/100 [==============================] - 96s 960ms/step - loss: nan - acc: 0.2060 - val_loss: nan - val_acc: 0.2000\n",
      "Epoch 6/30\n",
      "100/100 [==============================] - 96s 958ms/step - loss: nan - acc: 0.1935 - val_loss: nan - val_acc: 0.1988\n",
      "Epoch 7/30\n",
      "100/100 [==============================] - 97s 966ms/step - loss: nan - acc: 0.2015 - val_loss: nan - val_acc: 0.1976\n",
      "Epoch 8/30\n",
      "100/100 [==============================] - 95s 954ms/step - loss: nan - acc: 0.2015 - val_loss: nan - val_acc: 0.2024\n",
      "Epoch 9/30\n",
      "100/100 [==============================] - 95s 952ms/step - loss: nan - acc: 0.2000 - val_loss: nan - val_acc: 0.2000\n",
      "Epoch 10/30\n",
      "100/100 [==============================] - 95s 951ms/step - loss: nan - acc: 0.1980 - val_loss: nan - val_acc: 0.1988\n",
      "Epoch 11/30\n",
      "100/100 [==============================] - 98s 976ms/step - loss: nan - acc: 0.2005 - val_loss: nan - val_acc: 0.2000\n",
      "Epoch 12/30\n",
      "100/100 [==============================] - 96s 958ms/step - loss: nan - acc: 0.1995 - val_loss: nan - val_acc: 0.2012\n",
      "Epoch 13/30\n",
      "100/100 [==============================] - 96s 957ms/step - loss: nan - acc: 0.2005 - val_loss: nan - val_acc: 0.1988\n",
      "Epoch 14/30\n",
      "100/100 [==============================] - 97s 966ms/step - loss: nan - acc: 0.2010 - val_loss: nan - val_acc: 0.2000\n",
      "Epoch 15/30\n",
      "100/100 [==============================] - 95s 953ms/step - loss: nan - acc: 0.1995 - val_loss: nan - val_acc: 0.2012\n",
      "Epoch 16/30\n",
      "100/100 [==============================] - 96s 956ms/step - loss: nan - acc: 0.1990 - val_loss: nan - val_acc: 0.1988\n",
      "Epoch 17/30\n",
      "100/100 [==============================] - 95s 952ms/step - loss: nan - acc: 0.2000 - val_loss: nan - val_acc: 0.2024\n",
      "Epoch 18/30\n",
      "100/100 [==============================] - 95s 949ms/step - loss: nan - acc: 0.2030 - val_loss: nan - val_acc: 0.1988\n",
      "Epoch 19/30\n",
      "100/100 [==============================] - 95s 952ms/step - loss: nan - acc: 0.1970 - val_loss: nan - val_acc: 0.1976\n",
      "Epoch 20/30\n",
      "100/100 [==============================] - 211s 2s/step - loss: nan - acc: 0.1995 - val_loss: nan - val_acc: 0.2048\n",
      "Epoch 21/30\n",
      "100/100 [==============================] - 43s 428ms/step - loss: nan - acc: 0.2010 - val_loss: nan - val_acc: 0.1976\n",
      "Epoch 22/30\n",
      "100/100 [==============================] - 54s 536ms/step - loss: nan - acc: 0.1990 - val_loss: nan - val_acc: 0.2024\n",
      "Epoch 23/30\n",
      "100/100 [==============================] - 97s 974ms/step - loss: nan - acc: 0.1985 - val_loss: nan - val_acc: 0.1952\n",
      "Epoch 24/30\n",
      "100/100 [==============================] - 96s 965ms/step - loss: nan - acc: 0.2010 - val_loss: nan - val_acc: 0.2024\n",
      "Epoch 25/30\n",
      "100/100 [==============================] - 96s 963ms/step - loss: nan - acc: 0.2025 - val_loss: nan - val_acc: 0.2000\n",
      "Epoch 26/30\n",
      "100/100 [==============================] - 96s 964ms/step - loss: nan - acc: 0.1990 - val_loss: nan - val_acc: 0.2000\n",
      "Epoch 27/30\n",
      "100/100 [==============================] - 97s 975ms/step - loss: nan - acc: 0.1990 - val_loss: nan - val_acc: 0.2000\n",
      "Epoch 28/30\n",
      "100/100 [==============================] - 97s 967ms/step - loss: nan - acc: 0.2015 - val_loss: nan - val_acc: 0.2000\n",
      "Epoch 29/30\n",
      "100/100 [==============================] - 97s 966ms/step - loss: nan - acc: 0.2005 - val_loss: nan - val_acc: 0.2024\n",
      "Epoch 30/30\n",
      "100/100 [==============================] - 96s 961ms/step - loss: nan - acc: 0.1985 - val_loss: nan - val_acc: 0.1976\n"
     ]
    }
   ],
   "source": [
    "from PIL import Image\n",
    "history = model.fit_generator(\n",
    "      train_generator,\n",
    "      steps_per_epoch=100,\n",
    "      epochs=30,\n",
    "      validation_data=validation_generator,\n",
    "      validation_steps=50)"
   ]
  },
  {
   "cell_type": "code",
   "execution_count": 55,
   "metadata": {},
   "outputs": [],
   "source": [
    "model.save('prepared/singleCoilSavedModel.h5')"
   ]
  },
  {
   "cell_type": "code",
   "execution_count": 57,
   "metadata": {},
   "outputs": [
    {
     "data": {
      "image/png": "[encoded data removed]",
      "text/plain": [
       "<Figure size 432x288 with 1 Axes>"
      ]
     },
     "metadata": {
      "needs_background": "light"
     },
     "output_type": "display_data"
    },
    {
     "data": {
      "image/png": "[encoded data removed]",
      "text/plain": [
       "<Figure size 432x288 with 1 Axes>"
      ]
     },
     "metadata": {
      "needs_background": "light"
     },
     "output_type": "display_data"
    }
   ],
   "source": [
    "import matplotlib.pyplot as plt\n",
    "\n",
    "acc = history.history['acc']\n",
    "val_acc = history.history['val_acc']\n",
    "loss = history.history['loss']\n",
    "val_loss = history.history['val_loss']\n",
    "\n",
    "epochs = range(len(acc))\n",
    "\n",
    "plt.plot(epochs, acc, 'bo', label='Training acc')\n",
    "plt.plot(epochs, val_acc, 'b', label='Validation acc')\n",
    "plt.title('Training and validation accuracy')\n",
    "plt.legend()\n",
    "\n",
    "plt.figure()\n",
    "\n",
    "plt.plot(epochs, loss, 'bo', label='Training loss')\n",
    "plt.plot(epochs, val_loss, 'b', label='Validation loss')\n",
    "plt.title('Training and validation loss')\n",
    "plt.legend()\n",
    "\n",
    "plt.show()"
   ]
  }
 ],
 "metadata": {
  "kernelspec": {
   "display_name": "Python 3",
   "language": "python",
   "name": "python3"
  },
  "language_info": {
   "codemirror_mode": {
    "name": "ipython",
    "version": 3
   },
   "file_extension": ".py",
   "mimetype": "text/x-python",
   "name": "python",
   "nbconvert_exporter": "python",
   "pygments_lexer": "ipython3",
   "version": "3.6.10"
  }
 },
 "nbformat": 4,
 "nbformat_minor": 2
}
